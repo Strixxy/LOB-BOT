{
  "nbformat": 4,
  "nbformat_minor": 0,
  "metadata": {
    "colab": {
      "provenance": [],
      "authorship_tag": "ABX9TyPdTC4U4KOFjHafe1YiEbHj",
      "include_colab_link": true
    },
    "kernelspec": {
      "name": "python3",
      "display_name": "Python 3"
    },
    "language_info": {
      "name": "python"
    }
  },
  "cells": [
    {
      "cell_type": "markdown",
      "metadata": {
        "id": "view-in-github",
        "colab_type": "text"
      },
      "source": [
        "<a href=\"https://colab.research.google.com/github/Strixxy/LOB-BOT/blob/master/Day1.ipynb\" target=\"_parent\"><img src=\"https://colab.research.google.com/assets/colab-badge.svg\" alt=\"Open In Colab\"/></a>"
      ]
    },
    {
      "cell_type": "code",
      "execution_count": 5,
      "metadata": {
        "colab": {
          "base_uri": "https://localhost:8080/"
        },
        "id": "7oRuPpdOyWHS",
        "outputId": "0a400afc-c363-4c97-a85d-a6543847c09f"
      },
      "outputs": [
        {
          "output_type": "stream",
          "name": "stdout",
          "text": [
            "Enter The First Number5\n",
            "Enter The Second Number4\n",
            "The sum of 5 and 4 is 9\n"
          ]
        }
      ],
      "source": [
        "#sum of two numbers\n",
        "a=int(input('Enter The First Number'))\n",
        "b=int(input(\"Enter The Second Number\"))\n",
        "sum=a+b\n",
        "print(\"The sum of\",a,\"and\",b,\"is\",sum)"
      ]
    },
    {
      "cell_type": "code",
      "source": [
        "#product of two numbers\n",
        "a=int(input('Enter The First Number'))\n",
        "b=int(input(\"Enter The Second Number\"))\n",
        "c=a*b\n",
        "print(\"The Product of\",a,\"and\",b,\"is\",c)"
      ],
      "metadata": {
        "colab": {
          "base_uri": "https://localhost:8080/"
        },
        "id": "7O33BpdBzWEy",
        "outputId": "4408bad8-b582-4898-a1bc-c0ba47c16107"
      },
      "execution_count": 6,
      "outputs": [
        {
          "output_type": "stream",
          "name": "stdout",
          "text": [
            "Enter The First Number3\n",
            "Enter The Second Number6\n",
            "The sum of 3 and 6 is 18\n"
          ]
        }
      ]
    },
    {
      "cell_type": "code",
      "source": [
        "#division of two numbers\n",
        "a=int(input('Enter The First Number'))\n",
        "b=int(input(\"Enter The Second Number\"))\n",
        "c=a/b\n",
        "d=a%b\n",
        "print(\"The Quotient of\",a,\"%\",b,\"is\",c,\"And The Reminder is\",d)"
      ],
      "metadata": {
        "colab": {
          "base_uri": "https://localhost:8080/"
        },
        "id": "9RMg2EfR0AQR",
        "outputId": "af866e32-8c8c-4d56-b93a-61d895560354"
      },
      "execution_count": 10,
      "outputs": [
        {
          "output_type": "stream",
          "name": "stdout",
          "text": [
            "Enter The First Number15\n",
            "Enter The Second Number2\n",
            "The Quotient of 15 % 2 is 7.5 And The Reminder is 1\n"
          ]
        }
      ]
    },
    {
      "cell_type": "code",
      "source": [
        "#length of the string\n",
        "a=input('Enter the string: ')\n",
        "print(len(a))"
      ],
      "metadata": {
        "colab": {
          "base_uri": "https://localhost:8080/"
        },
        "id": "vCUeGT600r0T",
        "outputId": "70f95be9-339b-4a08-80f7-dd4a43e65ea1"
      },
      "execution_count": 12,
      "outputs": [
        {
          "output_type": "stream",
          "name": "stdout",
          "text": [
            "Enter the string: Paul J\n",
            "6\n"
          ]
        }
      ]
    },
    {
      "cell_type": "code",
      "source": [
        "#count the number of occurence\n",
        "a=input('Enter the string: ')\n",
        "b=input('Enter the letter to be checked: ')\n",
        "a.count(b)"
      ],
      "metadata": {
        "colab": {
          "base_uri": "https://localhost:8080/"
        },
        "id": "o8K61erQ1LmT",
        "outputId": "6fd9ea8b-5dc8-4f95-d096-95db8b2df94f"
      },
      "execution_count": 19,
      "outputs": [
        {
          "name": "stdout",
          "output_type": "stream",
          "text": [
            "Enter the string: Paul J Kottackal\n",
            "Enter the letter to be checked: t\n"
          ]
        },
        {
          "output_type": "execute_result",
          "data": {
            "text/plain": [
              "2"
            ]
          },
          "metadata": {},
          "execution_count": 19
        }
      ]
    },
    {
      "cell_type": "code",
      "source": [
        "a=input('Enter the string: ')\n",
        "a.upper()"
      ],
      "metadata": {
        "colab": {
          "base_uri": "https://localhost:8080/",
          "height": 53
        },
        "id": "N0B4FnPl19so",
        "outputId": "5cacc3bc-bdb3-43a9-c840-3e432136a98b"
      },
      "execution_count": 17,
      "outputs": [
        {
          "name": "stdout",
          "output_type": "stream",
          "text": [
            "Enter the string: paul j\n"
          ]
        },
        {
          "output_type": "execute_result",
          "data": {
            "text/plain": [
              "'PAUL J'"
            ],
            "application/vnd.google.colaboratory.intrinsic+json": {
              "type": "string"
            }
          },
          "metadata": {},
          "execution_count": 17
        }
      ]
    },
    {
      "cell_type": "code",
      "source": [
        "a=input('Enter the string: ')\n",
        "a.lower()"
      ],
      "metadata": {
        "colab": {
          "base_uri": "https://localhost:8080/",
          "height": 53
        },
        "id": "j6RD-uk02dg8",
        "outputId": "9191d5ad-f24d-455d-87b3-53dbc87ef0f9"
      },
      "execution_count": 18,
      "outputs": [
        {
          "name": "stdout",
          "output_type": "stream",
          "text": [
            "Enter the string: PAUL j\n"
          ]
        },
        {
          "output_type": "execute_result",
          "data": {
            "text/plain": [
              "'paul j'"
            ],
            "application/vnd.google.colaboratory.intrinsic+json": {
              "type": "string"
            }
          },
          "metadata": {},
          "execution_count": 18
        }
      ]
    },
    {
      "cell_type": "code",
      "source": [],
      "metadata": {
        "id": "rTCg2Dp727A1"
      },
      "execution_count": 18,
      "outputs": []
    }
  ]
}